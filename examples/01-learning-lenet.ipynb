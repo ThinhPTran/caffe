{
 "cells": [
  {
   "cell_type": "markdown",
   "metadata": {},
   "source": [
    "# Solving in Python with LeNet\n",
    "\n",
    "In this example, we'll explore learning with Caffe in Python, using the fully-exposed `Solver` interface."
   ]
  },
  {
   "cell_type": "markdown",
   "metadata": {},
   "source": [
    "### 1. Setup"
   ]
  },
  {
   "cell_type": "markdown",
   "metadata": {},
   "source": [
    "* Set up the Python environment: we'll use the `pylab` import for numpy and plot inline."
   ]
  },
  {
   "cell_type": "code",
   "execution_count": 3,
   "metadata": {},
   "outputs": [],
   "source": [
    "from pylab import *\n",
    "%matplotlib inline"
   ]
  },
  {
   "cell_type": "markdown",
   "metadata": {},
   "source": [
    "* Import `caffe`, adding it to `sys.path` if needed. Make sure you've built pycaffe."
   ]
  },
  {
   "cell_type": "code",
   "execution_count": 5,
   "metadata": {},
   "outputs": [],
   "source": [
    "caffe_root = '../'  # this file should be run from {caffe_root}/examples (otherwise change this line)\n",
    "\n",
    "# !export PYTHONPATH=/Users/apple/Programming/OpenCV/FishEye/fisheyelab/caffe/python\n",
    "# !echo $PYTHONPATH\n",
    "\n",
    "import sys\n",
    "caffe_root = '../'  # this file should be run from {caffe_root}/examples (otherwise change this line)\n",
    "sys.path.insert(0, caffe_root + 'python')\n",
    "\n",
    "import caffe"
   ]
  },
  {
   "cell_type": "markdown",
   "metadata": {},
   "source": [
    "* We'll be using the provided LeNet example data and networks (make sure you've downloaded the data and created the databases, as below)."
   ]
  },
  {
   "cell_type": "code",
   "execution_count": 7,
   "metadata": {},
   "outputs": [
    {
     "name": "stdout",
     "output_type": "stream",
     "text": [
      "Downloading...\n",
      "--2022-01-30 13:25:31--  http://yann.lecun.com/exdb/mnist/train-images-idx3-ubyte.gz\n",
      "Resolving yann.lecun.com (yann.lecun.com)... 104.21.29.36, 172.67.171.76\n",
      "Connecting to yann.lecun.com (yann.lecun.com)|104.21.29.36|:80... connected.\n",
      "HTTP request sent, awaiting response... 200 OK\n",
      "Length: 9912422 (9.5M) [application/x-gzip]\n",
      "Saving to: ‘train-images-idx3-ubyte.gz’\n",
      "\n",
      "train-images-idx3-u 100%[===================>]   9.45M  5.66MB/s    in 1.7s    \n",
      "\n",
      "2022-01-30 13:25:33 (5.66 MB/s) - ‘train-images-idx3-ubyte.gz’ saved [9912422/9912422]\n",
      "\n",
      "--2022-01-30 13:25:34--  http://yann.lecun.com/exdb/mnist/train-labels-idx1-ubyte.gz\n",
      "Resolving yann.lecun.com (yann.lecun.com)... 104.21.29.36, 172.67.171.76\n",
      "Connecting to yann.lecun.com (yann.lecun.com)|104.21.29.36|:80... connected.\n",
      "HTTP request sent, awaiting response... 200 OK\n",
      "Length: 28881 (28K) [application/x-gzip]\n",
      "Saving to: ‘train-labels-idx1-ubyte.gz’\n",
      "\n",
      "train-labels-idx1-u 100%[===================>]  28.20K  --.-KB/s    in 0.005s  \n",
      "\n",
      "2022-01-30 13:25:34 (5.15 MB/s) - ‘train-labels-idx1-ubyte.gz’ saved [28881/28881]\n",
      "\n",
      "--2022-01-30 13:25:34--  http://yann.lecun.com/exdb/mnist/t10k-images-idx3-ubyte.gz\n",
      "Resolving yann.lecun.com (yann.lecun.com)... 104.21.29.36, 172.67.171.76\n",
      "Connecting to yann.lecun.com (yann.lecun.com)|104.21.29.36|:80... connected.\n",
      "HTTP request sent, awaiting response... 200 OK\n",
      "Length: 1648877 (1.6M) [application/x-gzip]\n",
      "Saving to: ‘t10k-images-idx3-ubyte.gz’\n",
      "\n",
      "t10k-images-idx3-ub 100%[===================>]   1.57M  6.29MB/s    in 0.2s    \n",
      "\n",
      "2022-01-30 13:25:34 (6.29 MB/s) - ‘t10k-images-idx3-ubyte.gz’ saved [1648877/1648877]\n",
      "\n",
      "--2022-01-30 13:25:34--  http://yann.lecun.com/exdb/mnist/t10k-labels-idx1-ubyte.gz\n",
      "Resolving yann.lecun.com (yann.lecun.com)... 104.21.29.36, 172.67.171.76\n",
      "Connecting to yann.lecun.com (yann.lecun.com)|104.21.29.36|:80... connected.\n",
      "HTTP request sent, awaiting response... 200 OK\n",
      "Length: 4542 (4.4K) [application/x-gzip]\n",
      "Saving to: ‘t10k-labels-idx1-ubyte.gz’\n",
      "\n",
      "t10k-labels-idx1-ub 100%[===================>]   4.44K  --.-KB/s    in 0s      \n",
      "\n",
      "2022-01-30 13:25:34 (83.3 MB/s) - ‘t10k-labels-idx1-ubyte.gz’ saved [4542/4542]\n",
      "\n",
      "Creating lmdb...\n",
      "I20220130 13:25:35.026752 335089152 db_lmdb.cpp:35] Opened lmdb examples/mnist/mnist_train_lmdb\n",
      "I20220130 13:25:35.027930 335089152 convert_mnist_data.cpp:88] A total of 60000 items.\n",
      "I20220130 13:25:35.027942 335089152 convert_mnist_data.cpp:89] Rows: 28 Cols: 28\n",
      "I20220130 13:25:35.270151 335089152 convert_mnist_data.cpp:108] Processed 60000 files.\n",
      "I20220130 13:25:35.332988 253955584 db_lmdb.cpp:35] Opened lmdb examples/mnist/mnist_test_lmdb\n",
      "I20220130 13:25:35.334046 253955584 convert_mnist_data.cpp:88] A total of 10000 items.\n",
      "I20220130 13:25:35.334059 253955584 convert_mnist_data.cpp:89] Rows: 28 Cols: 28\n",
      "I20220130 13:25:35.379222 253955584 convert_mnist_data.cpp:108] Processed 10000 files.\n",
      "Done.\n"
     ]
    }
   ],
   "source": [
    "# run scripts from caffe root\n",
    "import os\n",
    "os.chdir(caffe_root)\n",
    "# Download data\n",
    "!data/mnist/get_mnist.sh\n",
    "# Prepare data\n",
    "!examples/mnist/create_mnist.sh\n",
    "# back to examples\n",
    "os.chdir('examples')"
   ]
  },
  {
   "cell_type": "markdown",
   "metadata": {},
   "source": [
    "### 2. Creating the net \n",
    "\n",
    "Now let's make a variant of LeNet, the classic 1989 convnet architecture.\n",
    "\n",
    "We'll need two external files to help out:\n",
    "* the net `prototxt`, defining the architecture and pointing to the train/test data\n",
    "* the solver `prototxt`, defining the learning parameters\n",
    "\n",
    "We start by creating the net. We'll write the net in a succinct and natural way as Python code that serializes to Caffe's protobuf model format.\n",
    "\n",
    "This network expects to read from pregenerated LMDBs, but reading directly from `ndarray`s is also possible using `MemoryDataLayer`."
   ]
  },
  {
   "cell_type": "code",
   "execution_count": 8,
   "metadata": {},
   "outputs": [],
   "source": [
    "from caffe import layers as L, params as P\n",
    "\n",
    "def lenet(lmdb, batch_size):\n",
    "    # our version of LeNet: a series of linear and simple nonlinear transformations\n",
    "    n = caffe.NetSpec()\n",
    "    \n",
    "    n.data, n.label = L.Data(batch_size=batch_size, backend=P.Data.LMDB, source=lmdb,\n",
    "                             transform_param=dict(scale=1./255), ntop=2)\n",
    "    \n",
    "    n.conv1 = L.Convolution(n.data, kernel_size=5, num_output=20, weight_filler=dict(type='xavier'))\n",
    "    n.pool1 = L.Pooling(n.conv1, kernel_size=2, stride=2, pool=P.Pooling.MAX)\n",
    "    n.conv2 = L.Convolution(n.pool1, kernel_size=5, num_output=50, weight_filler=dict(type='xavier'))\n",
    "    n.pool2 = L.Pooling(n.conv2, kernel_size=2, stride=2, pool=P.Pooling.MAX)\n",
    "    n.fc1 =   L.InnerProduct(n.pool2, num_output=500, weight_filler=dict(type='xavier'))\n",
    "    n.relu1 = L.ReLU(n.fc1, in_place=True)\n",
    "    n.score = L.InnerProduct(n.relu1, num_output=10, weight_filler=dict(type='xavier'))\n",
    "    n.loss =  L.SoftmaxWithLoss(n.score, n.label)\n",
    "    \n",
    "    return n.to_proto()\n",
    "    \n",
    "with open('mnist/lenet_auto_train.prototxt', 'w') as f:\n",
    "    f.write(str(lenet('mnist/mnist_train_lmdb', 64)))\n",
    "    \n",
    "with open('mnist/lenet_auto_test.prototxt', 'w') as f:\n",
    "    f.write(str(lenet('mnist/mnist_test_lmdb', 100)))"
   ]
  },
  {
   "cell_type": "markdown",
   "metadata": {},
   "source": [
    "The net has been written to disk in a more verbose but human-readable serialization format using Google's protobuf library. You can read, write, and modify this description directly. Let's take a look at the train net."
   ]
  },
  {
   "cell_type": "code",
   "execution_count": 9,
   "metadata": {},
   "outputs": [
    {
     "name": "stdout",
     "output_type": "stream",
     "text": [
      "layer {\r\n",
      "  name: \"data\"\r\n",
      "  type: \"Data\"\r\n",
      "  top: \"data\"\r\n",
      "  top: \"label\"\r\n",
      "  transform_param {\r\n",
      "    scale: 0.003921568859368563\r\n",
      "  }\r\n",
      "  data_param {\r\n",
      "    source: \"mnist/mnist_train_lmdb\"\r\n",
      "    batch_size: 64\r\n",
      "    backend: LMDB\r\n",
      "  }\r\n",
      "}\r\n",
      "layer {\r\n",
      "  name: \"conv1\"\r\n",
      "  type: \"Convolution\"\r\n",
      "  bottom: \"data\"\r\n",
      "  top: \"conv1\"\r\n",
      "  convolution_param {\r\n",
      "    num_output: 20\r\n",
      "    kernel_size: 5\r\n",
      "    weight_filler {\r\n",
      "      type: \"xavier\"\r\n",
      "    }\r\n",
      "  }\r\n",
      "}\r\n",
      "layer {\r\n",
      "  name: \"pool1\"\r\n",
      "  type: \"Pooling\"\r\n",
      "  bottom: \"conv1\"\r\n",
      "  top: \"pool1\"\r\n",
      "  pooling_param {\r\n",
      "    pool: MAX\r\n",
      "    kernel_size: 2\r\n",
      "    stride: 2\r\n",
      "  }\r\n",
      "}\r\n",
      "layer {\r\n",
      "  name: \"conv2\"\r\n",
      "  type: \"Convolution\"\r\n",
      "  bottom: \"pool1\"\r\n",
      "  top: \"conv2\"\r\n",
      "  convolution_param {\r\n",
      "    num_output: 50\r\n",
      "    kernel_size: 5\r\n",
      "    weight_filler {\r\n",
      "      type: \"xavier\"\r\n",
      "    }\r\n",
      "  }\r\n",
      "}\r\n",
      "layer {\r\n",
      "  name: \"pool2\"\r\n",
      "  type: \"Pooling\"\r\n",
      "  bottom: \"conv2\"\r\n",
      "  top: \"pool2\"\r\n",
      "  pooling_param {\r\n",
      "    pool: MAX\r\n",
      "    kernel_size: 2\r\n",
      "    stride: 2\r\n",
      "  }\r\n",
      "}\r\n",
      "layer {\r\n",
      "  name: \"fc1\"\r\n",
      "  type: \"InnerProduct\"\r\n",
      "  bottom: \"pool2\"\r\n",
      "  top: \"fc1\"\r\n",
      "  inner_product_param {\r\n",
      "    num_output: 500\r\n",
      "    weight_filler {\r\n",
      "      type: \"xavier\"\r\n",
      "    }\r\n",
      "  }\r\n",
      "}\r\n",
      "layer {\r\n",
      "  name: \"relu1\"\r\n",
      "  type: \"ReLU\"\r\n",
      "  bottom: \"fc1\"\r\n",
      "  top: \"fc1\"\r\n",
      "}\r\n",
      "layer {\r\n",
      "  name: \"score\"\r\n",
      "  type: \"InnerProduct\"\r\n",
      "  bottom: \"fc1\"\r\n",
      "  top: \"score\"\r\n",
      "  inner_product_param {\r\n",
      "    num_output: 10\r\n",
      "    weight_filler {\r\n",
      "      type: \"xavier\"\r\n",
      "    }\r\n",
      "  }\r\n",
      "}\r\n",
      "layer {\r\n",
      "  name: \"loss\"\r\n",
      "  type: \"SoftmaxWithLoss\"\r\n",
      "  bottom: \"score\"\r\n",
      "  bottom: \"label\"\r\n",
      "  top: \"loss\"\r\n",
      "}\r\n"
     ]
    }
   ],
   "source": [
    "!cat mnist/lenet_auto_train.prototxt"
   ]
  },
  {
   "cell_type": "markdown",
   "metadata": {},
   "source": [
    "Now let's see the learning parameters, which are also written as a `prototxt` file (already provided on disk). We're using SGD with momentum, weight decay, and a specific learning rate schedule."
   ]
  },
  {
   "cell_type": "code",
   "execution_count": 10,
   "metadata": {},
   "outputs": [
    {
     "name": "stdout",
     "output_type": "stream",
     "text": [
      "# The train/test net protocol buffer definition\r\n",
      "train_net: \"mnist/lenet_auto_train.prototxt\"\r\n",
      "test_net: \"mnist/lenet_auto_test.prototxt\"\r\n",
      "# test_iter specifies how many forward passes the test should carry out.\r\n",
      "# In the case of MNIST, we have test batch size 100 and 100 test iterations,\r\n",
      "# covering the full 10,000 testing images.\r\n",
      "test_iter: 100\r\n",
      "# Carry out testing every 500 training iterations.\r\n",
      "test_interval: 500\r\n",
      "# The base learning rate, momentum and the weight decay of the network.\r\n",
      "base_lr: 0.01\r\n",
      "momentum: 0.9\r\n",
      "weight_decay: 0.0005\r\n",
      "# The learning rate policy\r\n",
      "lr_policy: \"inv\"\r\n",
      "gamma: 0.0001\r\n",
      "power: 0.75\r\n",
      "# Display every 100 iterations\r\n",
      "display: 100\r\n",
      "# The maximum number of iterations\r\n",
      "max_iter: 10000\r\n",
      "# snapshot intermediate results\r\n",
      "snapshot: 5000\r\n",
      "snapshot_prefix: \"mnist/lenet\"\r\n"
     ]
    }
   ],
   "source": [
    "!cat mnist/lenet_auto_solver.prototxt"
   ]
  },
  {
   "cell_type": "markdown",
   "metadata": {},
   "source": [
    "### 3. Loading and checking the solver\n",
    "\n",
    "* Let's pick a device and load the solver. We'll use SGD (with momentum), but other methods (such as Adagrad and Nesterov's accelerated gradient) are also available."
   ]
  },
  {
   "cell_type": "code",
   "execution_count": 11,
   "metadata": {},
   "outputs": [
    {
     "name": "stderr",
     "output_type": "stream",
     "text": [
      "WARNING: Logging before InitGoogleLogging() is written to STDERR\n",
      "I20220130 13:26:09.062639 485215744 solver.cpp:45] Initializing solver from parameters: \n",
      "train_net: \"mnist/lenet_auto_train.prototxt\"\n",
      "test_net: \"mnist/lenet_auto_test.prototxt\"\n",
      "test_iter: 100\n",
      "test_interval: 500\n",
      "base_lr: 0.01\n",
      "display: 100\n",
      "max_iter: 10000\n",
      "lr_policy: \"inv\"\n",
      "gamma: 0.0001\n",
      "power: 0.75\n",
      "momentum: 0.9\n",
      "weight_decay: 0.0005\n",
      "snapshot: 5000\n",
      "snapshot_prefix: \"mnist/lenet\"\n",
      "I20220130 13:26:09.062973 485215744 solver.cpp:92] Creating training net from train_net file: mnist/lenet_auto_train.prototxt\n",
      "I20220130 13:26:09.063165 485215744 net.cpp:53] Initializing net from parameters: \n",
      "state {\n",
      "  phase: TRAIN\n",
      "}\n",
      "layer {\n",
      "  name: \"data\"\n",
      "  type: \"Data\"\n",
      "  top: \"data\"\n",
      "  top: \"label\"\n",
      "  transform_param {\n",
      "    scale: 0.00392156886\n",
      "  }\n",
      "  data_param {\n",
      "    source: \"mnist/mnist_train_lmdb\"\n",
      "    batch_size: 64\n",
      "    backend: LMDB\n",
      "  }\n",
      "}\n",
      "layer {\n",
      "  name: \"conv1\"\n",
      "  type: \"Convolution\"\n",
      "  bottom: \"data\"\n",
      "  top: \"conv1\"\n",
      "  convolution_param {\n",
      "    num_output: 20\n",
      "    kernel_size: 5\n",
      "    weight_filler {\n",
      "      type: \"xavier\"\n",
      "    }\n",
      "  }\n",
      "}\n",
      "layer {\n",
      "  name: \"pool1\"\n",
      "  type: \"Pooling\"\n",
      "  bottom: \"conv1\"\n",
      "  top: \"pool1\"\n",
      "  pooling_param {\n",
      "    pool: MAX\n",
      "    kernel_size: 2\n",
      "    stride: 2\n",
      "  }\n",
      "}\n",
      "layer {\n",
      "  name: \"conv2\"\n",
      "  type: \"Convolution\"\n",
      "  bottom: \"pool1\"\n",
      "  top: \"conv2\"\n",
      "  convolution_param {\n",
      "    num_output: 50\n",
      "    kernel_size: 5\n",
      "    weight_filler {\n",
      "      type: \"xavier\"\n",
      "    }\n",
      "  }\n",
      "}\n",
      "layer {\n",
      "  name: \"pool2\"\n",
      "  type: \"Pooling\"\n",
      "  bottom: \"conv2\"\n",
      "  top: \"pool2\"\n",
      "  pooling_param {\n",
      "    pool: MAX\n",
      "    kernel_size: 2\n",
      "    stride: 2\n",
      "  }\n",
      "}\n",
      "layer {\n",
      "  name: \"fc1\"\n",
      "  type: \"InnerProduct\"\n",
      "  bottom: \"pool2\"\n",
      "  top: \"fc1\"\n",
      "  inner_product_param {\n",
      "    num_output: 500\n",
      "    weight_filler {\n",
      "      type: \"xavier\"\n",
      "    }\n",
      "  }\n",
      "}\n",
      "layer {\n",
      "  name: \"relu1\"\n",
      "  type: \"ReLU\"\n",
      "  bottom: \"fc1\"\n",
      "  top: \"fc1\"\n",
      "}\n",
      "layer {\n",
      "  name: \"score\"\n",
      "  type: \"InnerProduct\"\n",
      "  bottom: \"fc1\"\n",
      "  top: \"score\"\n",
      "  inner_product_param {\n",
      "    num_output: 10\n",
      "    weight_filler {\n",
      "      type: \"xavier\"\n",
      "    }\n",
      "  }\n",
      "}\n",
      "layer {\n",
      "  name: \"loss\"\n",
      "  type: \"SoftmaxWithLoss\"\n",
      "  bottom: \"score\"\n",
      "  bottom: \"label\"\n",
      "  top: \"loss\"\n",
      "}\n",
      "I20220130 13:26:09.063241 485215744 layer_factory.hpp:77] Creating layer data\n",
      "I20220130 13:26:09.063366 485215744 db_lmdb.cpp:35] Opened lmdb mnist/mnist_train_lmdb\n",
      "I20220130 13:26:09.063405 485215744 net.cpp:86] Creating Layer data\n",
      "I20220130 13:26:09.063411 485215744 net.cpp:382] data -> data\n",
      "I20220130 13:26:09.063426 485215744 net.cpp:382] data -> label\n",
      "I20220130 13:26:09.063455 485215744 data_layer.cpp:45] output data size: 64,1,28,28\n",
      "I20220130 13:26:09.065009 485215744 net.cpp:124] Setting up data\n",
      "I20220130 13:26:09.065028 485215744 net.cpp:131] Top shape: 64 1 28 28 (50176)\n",
      "I20220130 13:26:09.065039 485215744 net.cpp:131] Top shape: 64 (64)\n",
      "I20220130 13:26:09.065047 485215744 net.cpp:139] Memory required for data: 200960\n",
      "I20220130 13:26:09.065059 485215744 layer_factory.hpp:77] Creating layer conv1\n",
      "I20220130 13:26:09.065080 485215744 net.cpp:86] Creating Layer conv1\n",
      "I20220130 13:26:09.065088 485215744 net.cpp:408] conv1 <- data\n",
      "I20220130 13:26:09.065097 485215744 net.cpp:382] conv1 -> conv1\n",
      "I20220130 13:26:09.065162 485215744 net.cpp:124] Setting up conv1\n",
      "I20220130 13:26:09.065181 485215744 net.cpp:131] Top shape: 64 20 24 24 (737280)\n",
      "I20220130 13:26:09.065232 485215744 net.cpp:139] Memory required for data: 3150080\n",
      "I20220130 13:26:09.065253 485215744 layer_factory.hpp:77] Creating layer pool1\n",
      "I20220130 13:26:09.065264 485215744 net.cpp:86] Creating Layer pool1\n",
      "I20220130 13:26:09.065271 485215744 net.cpp:408] pool1 <- conv1\n",
      "I20220130 13:26:09.065279 485215744 net.cpp:382] pool1 -> pool1\n",
      "I20220130 13:26:09.065299 485215744 net.cpp:124] Setting up pool1\n",
      "I20220130 13:26:09.065306 485215744 net.cpp:131] Top shape: 64 20 12 12 (184320)\n",
      "I20220130 13:26:09.065315 485215744 net.cpp:139] Memory required for data: 3887360\n",
      "I20220130 13:26:09.065321 485215744 layer_factory.hpp:77] Creating layer conv2\n",
      "I20220130 13:26:09.065333 485215744 net.cpp:86] Creating Layer conv2\n",
      "I20220130 13:26:09.065340 485215744 net.cpp:408] conv2 <- pool1\n",
      "I20220130 13:26:09.065349 485215744 net.cpp:382] conv2 -> conv2\n",
      "I20220130 13:26:09.065743 485215744 net.cpp:124] Setting up conv2\n",
      "I20220130 13:26:09.065755 485215744 net.cpp:131] Top shape: 64 50 8 8 (204800)\n",
      "I20220130 13:26:09.065765 485215744 net.cpp:139] Memory required for data: 4706560\n",
      "I20220130 13:26:09.065776 485215744 layer_factory.hpp:77] Creating layer pool2\n",
      "I20220130 13:26:09.065786 485215744 net.cpp:86] Creating Layer pool2\n",
      "I20220130 13:26:09.065793 485215744 net.cpp:408] pool2 <- conv2\n",
      "I20220130 13:26:09.065802 485215744 net.cpp:382] pool2 -> pool2\n",
      "I20220130 13:26:09.065814 485215744 net.cpp:124] Setting up pool2\n",
      "I20220130 13:26:09.065820 485215744 net.cpp:131] Top shape: 64 50 4 4 (51200)\n",
      "I20220130 13:26:09.065829 485215744 net.cpp:139] Memory required for data: 4911360\n",
      "I20220130 13:26:09.065835 485215744 layer_factory.hpp:77] Creating layer fc1\n",
      "I20220130 13:26:09.065850 485215744 net.cpp:86] Creating Layer fc1\n",
      "I20220130 13:26:09.065857 485215744 net.cpp:408] fc1 <- pool2\n",
      "I20220130 13:26:09.065865 485215744 net.cpp:382] fc1 -> fc1\n",
      "I20220130 13:26:09.069139 485215744 net.cpp:124] Setting up fc1\n",
      "I20220130 13:26:09.069165 485215744 net.cpp:131] Top shape: 64 500 (32000)\n",
      "I20220130 13:26:09.069196 485215744 net.cpp:139] Memory required for data: 5039360\n",
      "I20220130 13:26:09.069214 485215744 layer_factory.hpp:77] Creating layer relu1\n",
      "I20220130 13:26:09.069262 485215744 net.cpp:86] Creating Layer relu1\n",
      "I20220130 13:26:09.069273 485215744 net.cpp:408] relu1 <- fc1\n",
      "I20220130 13:26:09.069283 485215744 net.cpp:369] relu1 -> fc1 (in-place)\n",
      "I20220130 13:26:09.069293 485215744 net.cpp:124] Setting up relu1\n",
      "I20220130 13:26:09.069298 485215744 net.cpp:131] Top shape: 64 500 (32000)\n",
      "I20220130 13:26:09.069305 485215744 net.cpp:139] Memory required for data: 5167360\n",
      "I20220130 13:26:09.069311 485215744 layer_factory.hpp:77] Creating layer score\n",
      "I20220130 13:26:09.069319 485215744 net.cpp:86] Creating Layer score\n",
      "I20220130 13:26:09.069325 485215744 net.cpp:408] score <- fc1\n",
      "I20220130 13:26:09.069332 485215744 net.cpp:382] score -> score\n",
      "I20220130 13:26:09.069402 485215744 net.cpp:124] Setting up score\n",
      "I20220130 13:26:09.069406 485215744 net.cpp:131] Top shape: 64 10 (640)\n",
      "I20220130 13:26:09.069411 485215744 net.cpp:139] Memory required for data: 5169920\n",
      "I20220130 13:26:09.069416 485215744 layer_factory.hpp:77] Creating layer loss\n",
      "I20220130 13:26:09.069425 485215744 net.cpp:86] Creating Layer loss\n",
      "I20220130 13:26:09.069429 485215744 net.cpp:408] loss <- score\n",
      "I20220130 13:26:09.069432 485215744 net.cpp:408] loss <- label\n",
      "I20220130 13:26:09.069437 485215744 net.cpp:382] loss -> loss\n",
      "I20220130 13:26:09.069449 485215744 layer_factory.hpp:77] Creating layer loss\n",
      "I20220130 13:26:09.069464 485215744 net.cpp:124] Setting up loss\n",
      "I20220130 13:26:09.069468 485215744 net.cpp:131] Top shape: (1)\n",
      "I20220130 13:26:09.069473 485215744 net.cpp:134]     with loss weight 1\n",
      "I20220130 13:26:09.069478 485215744 net.cpp:139] Memory required for data: 5169924\n",
      "I20220130 13:26:09.069481 485215744 net.cpp:200] loss needs backward computation.\n",
      "I20220130 13:26:09.069485 485215744 net.cpp:200] score needs backward computation.\n",
      "I20220130 13:26:09.069489 485215744 net.cpp:200] relu1 needs backward computation.\n",
      "I20220130 13:26:09.069492 485215744 net.cpp:200] fc1 needs backward computation.\n",
      "I20220130 13:26:09.069496 485215744 net.cpp:200] pool2 needs backward computation.\n",
      "I20220130 13:26:09.069526 485215744 net.cpp:200] conv2 needs backward computation.\n",
      "I20220130 13:26:09.069536 485215744 net.cpp:200] pool1 needs backward computation.\n",
      "I20220130 13:26:09.069542 485215744 net.cpp:200] conv1 needs backward computation.\n",
      "I20220130 13:26:09.069548 485215744 net.cpp:202] data does not need backward computation.\n",
      "I20220130 13:26:09.069555 485215744 net.cpp:244] This network produces output loss\n",
      "I20220130 13:26:09.069563 485215744 net.cpp:257] Network initialization done.\n",
      "I20220130 13:26:09.069835 485215744 solver.cpp:190] Creating test net (#0) specified by test_net file: mnist/lenet_auto_test.prototxt\n",
      "I20220130 13:26:09.069861 485215744 net.cpp:53] Initializing net from parameters: \n",
      "state {\n",
      "  phase: TEST\n",
      "}\n",
      "layer {\n",
      "  name: \"data\"\n",
      "  type: \"Data\"\n",
      "  top: \"data\"\n",
      "  top: \"label\"\n",
      "  transform_param {\n",
      "    scale: 0.00392156886\n",
      "  }\n",
      "  data_param {\n",
      "    source: \"mnist/mnist_test_lmdb\"\n",
      "    batch_size: 100\n",
      "    backend: LMDB\n",
      "  }\n",
      "}\n",
      "layer {\n",
      "  name: \"conv1\"\n",
      "  type: \"Convolution\"\n"
     ]
    },
    {
     "name": "stderr",
     "output_type": "stream",
     "text": [
      "  bottom: \"data\"\n",
      "  top: \"conv1\"\n",
      "  convolution_param {\n",
      "    num_output: 20\n",
      "    kernel_size: 5\n",
      "    weight_filler {\n",
      "      type: \"xavier\"\n",
      "    }\n",
      "  }\n",
      "}\n",
      "layer {\n",
      "  name: \"pool1\"\n",
      "  type: \"Pooling\"\n",
      "  bottom: \"conv1\"\n",
      "  top: \"pool1\"\n",
      "  pooling_param {\n",
      "    pool: MAX\n",
      "    kernel_size: 2\n",
      "    stride: 2\n",
      "  }\n",
      "}\n",
      "layer {\n",
      "  name: \"conv2\"\n",
      "  type: \"Convolution\"\n",
      "  bottom: \"pool1\"\n",
      "  top: \"conv2\"\n",
      "  convolution_param {\n",
      "    num_output: 50\n",
      "    kernel_size: 5\n",
      "    weight_filler {\n",
      "      type: \"xavier\"\n",
      "    }\n",
      "  }\n",
      "}\n",
      "layer {\n",
      "  name: \"pool2\"\n",
      "  type: \"Pooling\"\n",
      "  bottom: \"conv2\"\n",
      "  top: \"pool2\"\n",
      "  pooling_param {\n",
      "    pool: MAX\n",
      "    kernel_size: 2\n",
      "    stride: 2\n",
      "  }\n",
      "}\n",
      "layer {\n",
      "  name: \"fc1\"\n",
      "  type: \"InnerProduct\"\n",
      "  bottom: \"pool2\"\n",
      "  top: \"fc1\"\n",
      "  inner_product_param {\n",
      "    num_output: 500\n",
      "    weight_filler {\n",
      "      type: \"xavier\"\n",
      "    }\n",
      "  }\n",
      "}\n",
      "layer {\n",
      "  name: \"relu1\"\n",
      "  type: \"ReLU\"\n",
      "  bottom: \"fc1\"\n",
      "  top: \"fc1\"\n",
      "}\n",
      "layer {\n",
      "  name: \"score\"\n",
      "  type: \"InnerProduct\"\n",
      "  bottom: \"fc1\"\n",
      "  top: \"score\"\n",
      "  inner_product_param {\n",
      "    num_output: 10\n",
      "    weight_filler {\n",
      "      type: \"xavier\"\n",
      "    }\n",
      "  }\n",
      "}\n",
      "layer {\n",
      "  name: \"loss\"\n",
      "  type: \"SoftmaxWithLoss\"\n",
      "  bottom: \"score\"\n",
      "  bottom: \"label\"\n",
      "  top: \"loss\"\n",
      "}\n",
      "I20220130 13:26:09.070003 485215744 layer_factory.hpp:77] Creating layer data\n",
      "I20220130 13:26:09.070194 485215744 db_lmdb.cpp:35] Opened lmdb mnist/mnist_test_lmdb\n",
      "I20220130 13:26:09.070220 485215744 net.cpp:86] Creating Layer data\n",
      "I20220130 13:26:09.070230 485215744 net.cpp:382] data -> data\n",
      "I20220130 13:26:09.070240 485215744 net.cpp:382] data -> label\n",
      "I20220130 13:26:09.070266 485215744 data_layer.cpp:45] output data size: 100,1,28,28\n",
      "I20220130 13:26:09.070988 485215744 net.cpp:124] Setting up data\n",
      "I20220130 13:26:09.071002 485215744 net.cpp:131] Top shape: 100 1 28 28 (78400)\n",
      "I20220130 13:26:09.071008 485215744 net.cpp:131] Top shape: 100 (100)\n",
      "I20220130 13:26:09.071012 485215744 net.cpp:139] Memory required for data: 314000\n",
      "I20220130 13:26:09.071017 485215744 layer_factory.hpp:77] Creating layer conv1\n",
      "I20220130 13:26:09.071028 485215744 net.cpp:86] Creating Layer conv1\n",
      "I20220130 13:26:09.071033 485215744 net.cpp:408] conv1 <- data\n",
      "I20220130 13:26:09.071038 485215744 net.cpp:382] conv1 -> conv1\n",
      "I20220130 13:26:09.071063 485215744 net.cpp:124] Setting up conv1\n",
      "I20220130 13:26:09.071069 485215744 net.cpp:131] Top shape: 100 20 24 24 (1152000)\n",
      "I20220130 13:26:09.071074 485215744 net.cpp:139] Memory required for data: 4922000\n",
      "I20220130 13:26:09.071081 485215744 layer_factory.hpp:77] Creating layer pool1\n",
      "I20220130 13:26:09.071086 485215744 net.cpp:86] Creating Layer pool1\n",
      "I20220130 13:26:09.071090 485215744 net.cpp:408] pool1 <- conv1\n",
      "I20220130 13:26:09.071094 485215744 net.cpp:382] pool1 -> pool1\n",
      "I20220130 13:26:09.071101 485215744 net.cpp:124] Setting up pool1\n",
      "I20220130 13:26:09.071105 485215744 net.cpp:131] Top shape: 100 20 12 12 (288000)\n",
      "I20220130 13:26:09.071110 485215744 net.cpp:139] Memory required for data: 6074000\n",
      "I20220130 13:26:09.071113 485215744 layer_factory.hpp:77] Creating layer conv2\n",
      "I20220130 13:26:09.071120 485215744 net.cpp:86] Creating Layer conv2\n",
      "I20220130 13:26:09.071123 485215744 net.cpp:408] conv2 <- pool1\n",
      "I20220130 13:26:09.071127 485215744 net.cpp:382] conv2 -> conv2\n",
      "I20220130 13:26:09.071343 485215744 net.cpp:124] Setting up conv2\n",
      "I20220130 13:26:09.071349 485215744 net.cpp:131] Top shape: 100 50 8 8 (320000)\n",
      "I20220130 13:26:09.071354 485215744 net.cpp:139] Memory required for data: 7354000\n",
      "I20220130 13:26:09.071359 485215744 layer_factory.hpp:77] Creating layer pool2\n",
      "I20220130 13:26:09.071365 485215744 net.cpp:86] Creating Layer pool2\n",
      "I20220130 13:26:09.071369 485215744 net.cpp:408] pool2 <- conv2\n",
      "I20220130 13:26:09.071373 485215744 net.cpp:382] pool2 -> pool2\n",
      "I20220130 13:26:09.071379 485215744 net.cpp:124] Setting up pool2\n",
      "I20220130 13:26:09.071382 485215744 net.cpp:131] Top shape: 100 50 4 4 (80000)\n",
      "I20220130 13:26:09.071388 485215744 net.cpp:139] Memory required for data: 7674000\n",
      "I20220130 13:26:09.071390 485215744 layer_factory.hpp:77] Creating layer fc1\n",
      "I20220130 13:26:09.071395 485215744 net.cpp:86] Creating Layer fc1\n",
      "I20220130 13:26:09.071399 485215744 net.cpp:408] fc1 <- pool2\n",
      "I20220130 13:26:09.071403 485215744 net.cpp:382] fc1 -> fc1\n",
      "I20220130 13:26:09.075261 485215744 net.cpp:124] Setting up fc1\n",
      "I20220130 13:26:09.075320 485215744 net.cpp:131] Top shape: 100 500 (50000)\n",
      "I20220130 13:26:09.075332 485215744 net.cpp:139] Memory required for data: 7874000\n",
      "I20220130 13:26:09.075348 485215744 layer_factory.hpp:77] Creating layer relu1\n",
      "I20220130 13:26:09.075361 485215744 net.cpp:86] Creating Layer relu1\n",
      "I20220130 13:26:09.075366 485215744 net.cpp:408] relu1 <- fc1\n",
      "I20220130 13:26:09.075373 485215744 net.cpp:369] relu1 -> fc1 (in-place)\n",
      "I20220130 13:26:09.075384 485215744 net.cpp:124] Setting up relu1\n",
      "I20220130 13:26:09.075387 485215744 net.cpp:131] Top shape: 100 500 (50000)\n",
      "I20220130 13:26:09.075392 485215744 net.cpp:139] Memory required for data: 8074000\n",
      "I20220130 13:26:09.075395 485215744 layer_factory.hpp:77] Creating layer score\n",
      "I20220130 13:26:09.075402 485215744 net.cpp:86] Creating Layer score\n",
      "I20220130 13:26:09.075405 485215744 net.cpp:408] score <- fc1\n",
      "I20220130 13:26:09.075412 485215744 net.cpp:382] score -> score\n",
      "I20220130 13:26:09.075498 485215744 net.cpp:124] Setting up score\n",
      "I20220130 13:26:09.075502 485215744 net.cpp:131] Top shape: 100 10 (1000)\n",
      "I20220130 13:26:09.075506 485215744 net.cpp:139] Memory required for data: 8078000\n",
      "I20220130 13:26:09.075511 485215744 layer_factory.hpp:77] Creating layer loss\n",
      "I20220130 13:26:09.075520 485215744 net.cpp:86] Creating Layer loss\n",
      "I20220130 13:26:09.075522 485215744 net.cpp:408] loss <- score\n",
      "I20220130 13:26:09.075526 485215744 net.cpp:408] loss <- label\n",
      "I20220130 13:26:09.075531 485215744 net.cpp:382] loss -> loss\n",
      "I20220130 13:26:09.075538 485215744 layer_factory.hpp:77] Creating layer loss\n",
      "I20220130 13:26:09.075551 485215744 net.cpp:124] Setting up loss\n",
      "I20220130 13:26:09.075553 485215744 net.cpp:131] Top shape: (1)\n",
      "I20220130 13:26:09.075557 485215744 net.cpp:134]     with loss weight 1\n",
      "I20220130 13:26:09.075567 485215744 net.cpp:139] Memory required for data: 8078004\n",
      "I20220130 13:26:09.075570 485215744 net.cpp:200] loss needs backward computation.\n",
      "I20220130 13:26:09.075574 485215744 net.cpp:200] score needs backward computation.\n",
      "I20220130 13:26:09.075577 485215744 net.cpp:200] relu1 needs backward computation.\n",
      "I20220130 13:26:09.075582 485215744 net.cpp:200] fc1 needs backward computation.\n",
      "I20220130 13:26:09.075585 485215744 net.cpp:200] pool2 needs backward computation.\n",
      "I20220130 13:26:09.075588 485215744 net.cpp:200] conv2 needs backward computation.\n",
      "I20220130 13:26:09.075592 485215744 net.cpp:200] pool1 needs backward computation.\n",
      "I20220130 13:26:09.075598 485215744 net.cpp:200] conv1 needs backward computation.\n",
      "I20220130 13:26:09.075603 485215744 net.cpp:202] data does not need backward computation.\n",
      "I20220130 13:26:09.075620 485215744 net.cpp:244] This network produces output loss\n",
      "I20220130 13:26:09.075629 485215744 net.cpp:257] Network initialization done.\n",
      "I20220130 13:26:09.075655 485215744 solver.cpp:57] Solver scaffolding done.\n"
     ]
    }
   ],
   "source": [
    "# caffe.set_device(0)\n",
    "# caffe.set_mode_gpu()\n",
    "\n",
    "caffe.set_mode_cpu()\n",
    "\n",
    "### load the solver and create train and test nets\n",
    "solver = None  # ignore this workaround for lmdb data (can't instantiate two solvers on the same data)\n",
    "solver = caffe.SGDSolver('mnist/lenet_auto_solver.prototxt')"
   ]
  },
  {
   "cell_type": "markdown",
   "metadata": {},
   "source": [
    "* To get an idea of the architecture of our net, we can check the dimensions of the intermediate features (blobs) and parameters (these will also be useful to refer to when manipulating data later)."
   ]
  },
  {
   "cell_type": "code",
   "execution_count": 12,
   "metadata": {
    "scrolled": false
   },
   "outputs": [
    {
     "data": {
      "text/plain": [
       "[('data', (64, 1, 28, 28)),\n",
       " ('label', (64,)),\n",
       " ('conv1', (64, 20, 24, 24)),\n",
       " ('pool1', (64, 20, 12, 12)),\n",
       " ('conv2', (64, 50, 8, 8)),\n",
       " ('pool2', (64, 50, 4, 4)),\n",
       " ('fc1', (64, 500)),\n",
       " ('score', (64, 10)),\n",
       " ('loss', ())]"
      ]
     },
     "execution_count": 12,
     "metadata": {},
     "output_type": "execute_result"
    }
   ],
   "source": [
    "# each output is (batch size, feature dim, spatial dim)\n",
    "[(k, v.data.shape) for k, v in solver.net.blobs.items()]"
   ]
  },
  {
   "cell_type": "code",
   "execution_count": 13,
   "metadata": {},
   "outputs": [
    {
     "data": {
      "text/plain": [
       "[('conv1', (20, 1, 5, 5)),\n",
       " ('conv2', (50, 20, 5, 5)),\n",
       " ('fc1', (500, 800)),\n",
       " ('score', (10, 500))]"
      ]
     },
     "execution_count": 13,
     "metadata": {},
     "output_type": "execute_result"
    }
   ],
   "source": [
    "# just print the weight sizes (we'll omit the biases)\n",
    "[(k, v[0].data.shape) for k, v in solver.net.params.items()]"
   ]
  },
  {
   "cell_type": "markdown",
   "metadata": {},
   "source": [
    "* Before taking off, let's check that everything is loaded as we expect. We'll run a forward pass on the train and test nets and check that they contain our data."
   ]
  },
  {
   "cell_type": "code",
   "execution_count": 14,
   "metadata": {},
   "outputs": [
    {
     "data": {
      "text/plain": [
       "{'loss': array(2.278993, dtype=float32)}"
      ]
     },
     "execution_count": 14,
     "metadata": {},
     "output_type": "execute_result"
    }
   ],
   "source": [
    "solver.net.forward()  # train net\n",
    "solver.test_nets[0].forward()  # test net (there can be more than one)"
   ]
  },
  {
   "cell_type": "code",
   "execution_count": 16,
   "metadata": {},
   "outputs": [
    {
     "name": "stdout",
     "output_type": "stream",
     "text": [
      "train labels: [5. 0. 4. 1. 9. 2. 1. 3.]\n"
     ]
    },
    {
     "data": {
      "image/png": "[encoded data removed]",
      "text/plain": [
       "<Figure size 432x288 with 1 Axes>"
      ]
     },
     "metadata": {
      "needs_background": "light"
     },
     "output_type": "display_data"
    }
   ],
   "source": [
    "# we use a little trick to tile the first eight images\n",
    "imshow(solver.net.blobs['data'].data[:8, 0].transpose(1, 0, 2).reshape(28, 8*28), cmap='gray'); axis('off')\n",
    "print('train labels:', solver.net.blobs['label'].data[:8])"
   ]
  },
  {
   "cell_type": "code",
   "execution_count": 17,
   "metadata": {},
   "outputs": [
    {
     "name": "stdout",
     "output_type": "stream",
     "text": [
      "test labels: [7. 2. 1. 0. 4. 1. 4. 9.]\n"
     ]
    },
    {
     "data": {
      "image/png": "[encoded data removed]",
      "text/plain": [
       "<Figure size 432x288 with 1 Axes>"
      ]
     },
     "metadata": {
      "needs_background": "light"
     },
     "output_type": "display_data"
    }
   ],
   "source": [
    "imshow(solver.test_nets[0].blobs['data'].data[:8, 0].transpose(1, 0, 2).reshape(28, 8*28), cmap='gray'); axis('off')\n",
    "print('test labels:', solver.test_nets[0].blobs['label'].data[:8])"
   ]
  },
  {
   "cell_type": "markdown",
   "metadata": {},
   "source": [
    "### 4. Stepping the solver\n",
    "\n",
    "Both train and test nets seem to be loading data, and to have correct labels.\n",
    "\n",
    "* Let's take one step of (minibatch) SGD and see what happens."
   ]
  },
  {
   "cell_type": "code",
   "execution_count": 18,
   "metadata": {},
   "outputs": [
    {
     "name": "stderr",
     "output_type": "stream",
     "text": [
      "I20220130 13:26:57.715555 485215744 solver.cpp:347] Iteration 0, Testing net (#0)\n",
      "I20220130 13:27:00.072746 132997120 data_layer.cpp:73] Restarting data prefetching from start.\n",
      "I20220130 13:27:00.205127 485215744 solver.cpp:414]     Test net output #0: loss = 2.40925 (* 1 = 2.40925 loss)\n",
      "I20220130 13:27:00.238833 485215744 solver.cpp:239] Iteration 0 (-1.95193e-30 iter/s, 2.524s/100 iters), loss = 2.42171\n",
      "I20220130 13:27:00.238860 485215744 solver.cpp:258]     Train net output #0: loss = 2.42171 (* 1 = 2.42171 loss)\n",
      "I20220130 13:27:00.238867 485215744 sgd_solver.cpp:112] Iteration 0, lr = 0.01\n"
     ]
    }
   ],
   "source": [
    "solver.step(1)"
   ]
  },
  {
   "cell_type": "markdown",
   "metadata": {},
   "source": [
    "Do we have gradients propagating through our filters? Let's see the updates to the first layer, shown here as a $4 \\times 5$ grid of $5 \\times 5$ filters."
   ]
  },
  {
   "cell_type": "code",
   "execution_count": 20,
   "metadata": {},
   "outputs": [
    {
     "data": {
      "text/plain": [
       "(-0.5, 24.5, 19.5, -0.5)"
      ]
     },
     "execution_count": 20,
     "metadata": {},
     "output_type": "execute_result"
    },
    {
     "data": {
      "image/png": "[encoded data removed]",
      "text/plain": [
       "<Figure size 432x288 with 1 Axes>"
      ]
     },
     "metadata": {
      "needs_background": "light"
     },
     "output_type": "display_data"
    }
   ],
   "source": [
    "imshow(solver.net.params['conv1'][0].diff[:, 0].reshape(4, 5, 5, 5)\n",
    "       .transpose(0, 2, 1, 3).reshape(4*5, 5*5), cmap='gray'); axis('off')"
   ]
  },
  {
   "cell_type": "markdown",
   "metadata": {},
   "source": [
    "### 5. Writing a custom training loop\n",
    "\n",
    "Something is happening. Let's run the net for a while, keeping track of a few things as it goes.\n",
    "Note that this process will be the same as if training through the `caffe` binary. In particular:\n",
    "* logging will continue to happen as normal\n",
    "* snapshots will be taken at the interval specified in the solver prototxt (here, every 5000 iterations)\n",
    "* testing will happen at the interval specified (here, every 500 iterations)\n",
    "\n",
    "Since we have control of the loop in Python, we're free to compute additional things as we go, as we show below. We can do many other things as well, for example:\n",
    "* write a custom stopping criterion\n",
    "* change the solving process by updating the net in the loop"
   ]
  },
  {
   "cell_type": "code",
   "execution_count": 22,
   "metadata": {},
   "outputs": [
    {
     "name": "stdout",
     "output_type": "stream",
     "text": [
      "Iteration 0 testing...\n"
     ]
    },
    {
     "name": "stderr",
     "output_type": "stream",
     "text": [
      "I20220130 13:27:23.036963 132997120 data_layer.cpp:73] Restarting data prefetching from start.\n"
     ]
    },
    {
     "name": "stdout",
     "output_type": "stream",
     "text": [
      "Iteration 25 testing...\n"
     ]
    },
    {
     "name": "stderr",
     "output_type": "stream",
     "text": [
      "I20220130 13:27:26.881932 132997120 data_layer.cpp:73] Restarting data prefetching from start.\n"
     ]
    },
    {
     "name": "stdout",
     "output_type": "stream",
     "text": [
      "Iteration 50 testing...\n"
     ]
    },
    {
     "name": "stderr",
     "output_type": "stream",
     "text": [
      "I20220130 13:27:30.721819 132997120 data_layer.cpp:73] Restarting data prefetching from start.\n"
     ]
    },
    {
     "name": "stdout",
     "output_type": "stream",
     "text": [
      "Iteration 75 testing...\n"
     ]
    },
    {
     "name": "stderr",
     "output_type": "stream",
     "text": [
      "I20220130 13:27:34.435318 132997120 data_layer.cpp:73] Restarting data prefetching from start.\n",
      "I20220130 13:27:35.884848 485215744 solver.cpp:239] Iteration 100 (2.80544 iter/s, 35.645s/100 iters), loss = 0.309588\n",
      "I20220130 13:27:35.884877 485215744 solver.cpp:258]     Train net output #0: loss = 0.309588 (* 1 = 0.309588 loss)\n",
      "I20220130 13:27:35.884884 485215744 sgd_solver.cpp:112] Iteration 100, lr = 0.00992565\n"
     ]
    },
    {
     "name": "stdout",
     "output_type": "stream",
     "text": [
      "Iteration 100 testing...\n"
     ]
    },
    {
     "name": "stderr",
     "output_type": "stream",
     "text": [
      "I20220130 13:27:38.171543 132997120 data_layer.cpp:73] Restarting data prefetching from start.\n"
     ]
    },
    {
     "name": "stdout",
     "output_type": "stream",
     "text": [
      "Iteration 125 testing...\n"
     ]
    },
    {
     "name": "stderr",
     "output_type": "stream",
     "text": [
      "I20220130 13:27:42.088356 132997120 data_layer.cpp:73] Restarting data prefetching from start.\n"
     ]
    },
    {
     "name": "stdout",
     "output_type": "stream",
     "text": [
      "Iteration 150 testing...\n"
     ]
    },
    {
     "name": "stderr",
     "output_type": "stream",
     "text": [
      "I20220130 13:27:45.965364 132997120 data_layer.cpp:73] Restarting data prefetching from start.\n"
     ]
    },
    {
     "name": "stdout",
     "output_type": "stream",
     "text": [
      "Iteration 175 testing...\n"
     ]
    },
    {
     "name": "stderr",
     "output_type": "stream",
     "text": [
      "I20220130 13:27:49.680402 132997120 data_layer.cpp:73] Restarting data prefetching from start.\n"
     ]
    },
    {
     "name": "stdout",
     "output_type": "stream",
     "text": [
      "CPU times: user 30.4 s, sys: 241 ms, total: 30.7 s\n",
      "Wall time: 30.7 s\n"
     ]
    },
    {
     "name": "stderr",
     "output_type": "stream",
     "text": [
      "I20220130 13:27:51.342689 485215744 solver.cpp:239] Iteration 200 (6.46956 iter/s, 15.457s/100 iters), loss = 0.220591\n",
      "I20220130 13:27:51.342723 485215744 solver.cpp:258]     Train net output #0: loss = 0.220591 (* 1 = 0.220591 loss)\n",
      "I20220130 13:27:51.342730 485215744 sgd_solver.cpp:112] Iteration 200, lr = 0.00985258\n"
     ]
    }
   ],
   "source": [
    "%%time\n",
    "niter = 200\n",
    "test_interval = 25\n",
    "# losses will also be stored in the log\n",
    "train_loss = zeros(niter)\n",
    "test_acc = zeros(int(np.ceil(niter / test_interval)))\n",
    "output = zeros((niter, 8, 10))\n",
    "\n",
    "# the main solver loop\n",
    "for it in range(niter):\n",
    "    solver.step(1)  # SGD by Caffe\n",
    "    \n",
    "    # store the train loss\n",
    "    train_loss[it] = solver.net.blobs['loss'].data\n",
    "    \n",
    "    # store the output on the first test batch\n",
    "    # (start the forward pass at conv1 to avoid loading new data)\n",
    "    solver.test_nets[0].forward(start='conv1')\n",
    "    output[it] = solver.test_nets[0].blobs['score'].data[:8]\n",
    "    \n",
    "    # run a full test every so often\n",
    "    # (Caffe can also do this for us and write to a log, but we show here\n",
    "    #  how to do it directly in Python, where more complicated things are easier.)\n",
    "    if it % test_interval == 0:\n",
    "        print('Iteration', it, 'testing...')\n",
    "        correct = 0\n",
    "        for test_it in range(100):\n",
    "            solver.test_nets[0].forward()\n",
    "            correct += sum(solver.test_nets[0].blobs['score'].data.argmax(1)\n",
    "                           == solver.test_nets[0].blobs['label'].data)\n",
    "        test_acc[it // test_interval] = correct / 1e4"
   ]
  },
  {
   "cell_type": "markdown",
   "metadata": {},
   "source": [
    "* Let's plot the train loss and test accuracy."
   ]
  },
  {
   "cell_type": "code",
   "execution_count": 23,
   "metadata": {},
   "outputs": [
    {
     "data": {
      "text/plain": [
       "Text(0.5, 1.0, 'Test Accuracy: 0.95')"
      ]
     },
     "execution_count": 23,
     "metadata": {},
     "output_type": "execute_result"
    },
    {
     "data": {
      "image/png": "[encoded data removed]",
      "text/plain": [
       "<Figure size 432x288 with 2 Axes>"
      ]
     },
     "metadata": {
      "needs_background": "light"
     },
     "output_type": "display_data"
    }
   ],
   "source": [
    "_, ax1 = subplots()\n",
    "ax2 = ax1.twinx()\n",
    "ax1.plot(arange(niter), train_loss)\n",
    "ax2.plot(test_interval * arange(len(test_acc)), test_acc, 'r')\n",
    "ax1.set_xlabel('iteration')\n",
    "ax1.set_ylabel('train loss')\n",
    "ax2.set_ylabel('test accuracy')\n",
    "ax2.set_title('Test Accuracy: {:.2f}'.format(test_acc[-1]))"
   ]
  },
  {
   "cell_type": "markdown",
   "metadata": {},
   "source": [
    "The loss seems to have dropped quickly and coverged (except for stochasticity), while the accuracy rose correspondingly. Hooray!\n",
    "\n",
    "* Since we saved the results on the first test batch, we can watch how our prediction scores evolved. We'll plot time on the $x$ axis and each possible label on the $y$, with lightness indicating confidence."
   ]
  },
  {
   "cell_type": "code",
   "execution_count": 24,
   "metadata": {
    "scrolled": false
   },
   "outputs": [
    {
     "data": {
      "image/png": "[encoded data removed]",
      "text/plain": [
       "<Figure size 144x144 with 1 Axes>"
      ]
     },
     "metadata": {
      "needs_background": "light"
     },
     "output_type": "display_data"
    },
    {
     "data": {
      "image/png": "[encoded data removed]",
      "text/plain": [
       "<Figure size 720x144 with 1 Axes>"
      ]
     },
     "metadata": {
      "needs_background": "light"
     },
     "output_type": "display_data"
    },
    {
     "data": {
      "image/png": "[encoded data removed]",
      "text/plain": [
       "<Figure size 144x144 with 1 Axes>"
      ]
     },
     "metadata": {
      "needs_background": "light"
     },
     "output_type": "display_data"
    },
    {
     "data": {
      "image/png": "[encoded data removed]",
      "text/plain": [
       "<Figure size 720x144 with 1 Axes>"
      ]
     },
     "metadata": {
      "needs_background": "light"
     },
     "output_type": "display_data"
    },
    {
     "data": {
      "image/png": "[encoded data removed]",
      "text/plain": [
       "<Figure size 144x144 with 1 Axes>"
      ]
     },
     "metadata": {
      "needs_background": "light"
     },
     "output_type": "display_data"
    },
    {
     "data": {
      "image/png": "[encoded data removed]",
      "text/plain": [
       "<Figure size 720x144 with 1 Axes>"
      ]
     },
     "metadata": {
      "needs_background": "light"
     },
     "output_type": "display_data"
    },
    {
     "data": {
      "image/png": "[encoded data removed]",
      "text/plain": [
       "<Figure size 144x144 with 1 Axes>"
      ]
     },
     "metadata": {
      "needs_background": "light"
     },
     "output_type": "display_data"
    },
    {
     "data": {
      "image/png": "[encoded data removed]",
      "text/plain": [
       "<Figure size 720x144 with 1 Axes>"
      ]
     },
     "metadata": {
      "needs_background": "light"
     },
     "output_type": "display_data"
    },
    {
     "data": {
      "image/png": "[encoded data removed]",
      "text/plain": [
       "<Figure size 144x144 with 1 Axes>"
      ]
     },
     "metadata": {
      "needs_background": "light"
     },
     "output_type": "display_data"
    },
    {
     "data": {
      "image/png": "[encoded data removed]",
      "text/plain": [
       "<Figure size 720x144 with 1 Axes>"
      ]
     },
     "metadata": {
      "needs_background": "light"
     },
     "output_type": "display_data"
    },
    {
     "data": {
      "image/png": "[encoded data removed]",
      "text/plain": [
       "<Figure size 144x144 with 1 Axes>"
      ]
     },
     "metadata": {
      "needs_background": "light"
     },
     "output_type": "display_data"
    },
    {
     "data": {
      "image/png": "[encoded data removed]",
      "text/plain": [
       "<Figure size 720x144 with 1 Axes>"
      ]
     },
     "metadata": {
      "needs_background": "light"
     },
     "output_type": "display_data"
    },
    {
     "data": {
      "image/png": "[encoded data removed]",
      "text/plain": [
       "<Figure size 144x144 with 1 Axes>"
      ]
     },
     "metadata": {
      "needs_background": "light"
     },
     "output_type": "display_data"
    },
    {
     "data": {
      "image/png": "[encoded data removed]",
      "text/plain": [
       "<Figure size 720x144 with 1 Axes>"
      ]
     },
     "metadata": {
      "needs_background": "light"
     },
     "output_type": "display_data"
    },
    {
     "data": {
      "image/png": "[encoded data removed]",
      "text/plain": [
       "<Figure size 144x144 with 1 Axes>"
      ]
     },
     "metadata": {
      "needs_background": "light"
     },
     "output_type": "display_data"
    },
    {
     "data": {
      "image/png": "[encoded data removed]",
      "text/plain": [
       "<Figure size 720x144 with 1 Axes>"
      ]
     },
     "metadata": {
      "needs_background": "light"
     },
     "output_type": "display_data"
    }
   ],
   "source": [
    "for i in range(8):\n",
    "    figure(figsize=(2, 2))\n",
    "    imshow(solver.test_nets[0].blobs['data'].data[i, 0], cmap='gray')\n",
    "    figure(figsize=(10, 2))\n",
    "    imshow(output[:50, i].T, interpolation='nearest', cmap='gray')\n",
    "    xlabel('iteration')\n",
    "    ylabel('label')"
   ]
  },
  {
   "cell_type": "markdown",
   "metadata": {},
   "source": [
    "We started with little idea about any of these digits, and ended up with correct classifications for each. If you've been following along, you'll see the last digit is the most difficult, a slanted \"9\" that's (understandably) most confused with \"4\".\n",
    "\n",
    "* Note that these are the \"raw\" output scores rather than the softmax-computed probability vectors. The latter, shown below, make it easier to see the confidence of our net (but harder to see the scores for less likely digits)."
   ]
  },
  {
   "cell_type": "code",
   "execution_count": 25,
   "metadata": {
    "scrolled": false
   },
   "outputs": [
    {
     "data": {
      "image/png": "[encoded data removed]",
      "text/plain": [
       "<Figure size 144x144 with 1 Axes>"
      ]
     },
     "metadata": {
      "needs_background": "light"
     },
     "output_type": "display_data"
    },
    {
     "data": {
      "image/png": "[encoded data removed]",
      "text/plain": [
       "<Figure size 720x144 with 1 Axes>"
      ]
     },
     "metadata": {
      "needs_background": "light"
     },
     "output_type": "display_data"
    },
    {
     "data": {
      "image/png": "[encoded data removed]",
      "text/plain": [
       "<Figure size 144x144 with 1 Axes>"
      ]
     },
     "metadata": {
      "needs_background": "light"
     },
     "output_type": "display_data"
    },
    {
     "data": {
      "image/png": "[encoded data removed]",
      "text/plain": [
       "<Figure size 720x144 with 1 Axes>"
      ]
     },
     "metadata": {
      "needs_background": "light"
     },
     "output_type": "display_data"
    },
    {
     "data": {
      "image/png": "[encoded data removed]",
      "text/plain": [
       "<Figure size 144x144 with 1 Axes>"
      ]
     },
     "metadata": {
      "needs_background": "light"
     },
     "output_type": "display_data"
    },
    {
     "data": {
      "image/png": "[encoded data removed]",
      "text/plain": [
       "<Figure size 720x144 with 1 Axes>"
      ]
     },
     "metadata": {
      "needs_background": "light"
     },
     "output_type": "display_data"
    },
    {
     "data": {
      "image/png": "[encoded data removed]",
      "text/plain": [
       "<Figure size 144x144 with 1 Axes>"
      ]
     },
     "metadata": {
      "needs_background": "light"
     },
     "output_type": "display_data"
    },
    {
     "data": {
      "image/png": "[encoded data removed]",
      "text/plain": [
       "<Figure size 720x144 with 1 Axes>"
      ]
     },
     "metadata": {
      "needs_background": "light"
     },
     "output_type": "display_data"
    },
    {
     "data": {
      "image/png": "[encoded data removed]",
      "text/plain": [
       "<Figure size 144x144 with 1 Axes>"
      ]
     },
     "metadata": {
      "needs_background": "light"
     },
     "output_type": "display_data"
    },
    {
     "data": {
      "image/png": "[encoded data removed]",
      "text/plain": [
       "<Figure size 720x144 with 1 Axes>"
      ]
     },
     "metadata": {
      "needs_background": "light"
     },
     "output_type": "display_data"
    },
    {
     "data": {
      "image/png": "[encoded data removed]",
      "text/plain": [
       "<Figure size 144x144 with 1 Axes>"
      ]
     },
     "metadata": {
      "needs_background": "light"
     },
     "output_type": "display_data"
    },
    {
     "data": {
      "image/png": "[encoded data removed]",
      "text/plain": [
       "<Figure size 720x144 with 1 Axes>"
      ]
     },
     "metadata": {
      "needs_background": "light"
     },
     "output_type": "display_data"
    },
    {
     "data": {
      "image/png": "[encoded data removed]",
      "text/plain": [
       "<Figure size 144x144 with 1 Axes>"
      ]
     },
     "metadata": {
      "needs_background": "light"
     },
     "output_type": "display_data"
    },
    {
     "data": {
      "image/png": "[encoded data removed]",
      "text/plain": [
       "<Figure size 720x144 with 1 Axes>"
      ]
     },
     "metadata": {
      "needs_background": "light"
     },
     "output_type": "display_data"
    },
    {
     "data": {
      "image/png": "[encoded data removed]",
      "text/plain": [
       "<Figure size 144x144 with 1 Axes>"
      ]
     },
     "metadata": {
      "needs_background": "light"
     },
     "output_type": "display_data"
    },
    {
     "data": {
      "image/png": "[encoded data removed]",
      "text/plain": [
       "<Figure size 720x144 with 1 Axes>"
      ]
     },
     "metadata": {
      "needs_background": "light"
     },
     "output_type": "display_data"
    }
   ],
   "source": [
    "for i in range(8):\n",
    "    figure(figsize=(2, 2))\n",
    "    imshow(solver.test_nets[0].blobs['data'].data[i, 0], cmap='gray')\n",
    "    figure(figsize=(10, 2))\n",
    "    imshow(exp(output[:50, i].T) / exp(output[:50, i].T).sum(0), interpolation='nearest', cmap='gray')\n",
    "    xlabel('iteration')\n",
    "    ylabel('label')"
   ]
  },
  {
   "cell_type": "markdown",
   "metadata": {},
   "source": [
    "### 6. Experiment with architecture and optimization\n",
    "\n",
    "Now that we've defined, trained, and tested LeNet there are many possible next steps:\n",
    "\n",
    "- Define new architectures for comparison\n",
    "- Tune optimization by setting `base_lr` and the like or simply training longer\n",
    "- Switching the solver type from `SGD` to an adaptive method like `AdaDelta` or `Adam`\n",
    "\n",
    "Feel free to explore these directions by editing the all-in-one example that follows.\n",
    "Look for \"`EDIT HERE`\" comments for suggested choice points.\n",
    "\n",
    "By default this defines a simple linear classifier as a baseline.\n",
    "\n",
    "In case your coffee hasn't kicked in and you'd like inspiration, try out\n",
    "\n",
    "1. Switch the nonlinearity from `ReLU` to `ELU` or a saturing nonlinearity like `Sigmoid`\n",
    "2. Stack more fully connected and nonlinear layers\n",
    "3. Search over learning rate 10x at a time (trying `0.1` and `0.001`)\n",
    "4. Switch the solver type to `Adam` (this adaptive solver type should be less sensitive to hyperparameters, but no guarantees...)\n",
    "5. Solve for longer by setting `niter` higher (to 500 or 1,000 for instance) to better show training differences"
   ]
  },
  {
   "cell_type": "code",
   "execution_count": 28,
   "metadata": {},
   "outputs": [
    {
     "name": "stdout",
     "output_type": "stream",
     "text": [
      "Iteration 0 testing\n"
     ]
    },
    {
     "name": "stderr",
     "output_type": "stream",
     "text": [
      "I20220130 13:33:06.045420 485215744 solver.cpp:45] Initializing solver from parameters: \n",
      "train_net: \"mnist/custom_auto_train.prototxt\"\n",
      "test_net: \"mnist/custom_auto_test.prototxt\"\n",
      "test_iter: 100\n",
      "test_interval: 500\n",
      "base_lr: 0.01\n",
      "display: 1000\n",
      "max_iter: 10000\n",
      "lr_policy: \"inv\"\n",
      "gamma: 0.0001\n",
      "power: 0.75\n",
      "momentum: 0.9\n",
      "weight_decay: 0.0005\n",
      "snapshot: 5000\n",
      "snapshot_prefix: \"mnist/custom_net\"\n",
      "solver_mode: GPU\n",
      "random_seed: 831486\n",
      "type: \"SGD\"\n",
      "I20220130 13:33:06.045624 485215744 solver.cpp:92] Creating training net from train_net file: mnist/custom_auto_train.prototxt\n",
      "I20220130 13:33:06.045711 485215744 net.cpp:53] Initializing net from parameters: \n",
      "state {\n",
      "  phase: TRAIN\n",
      "}\n",
      "layer {\n",
      "  name: \"data\"\n",
      "  type: \"Data\"\n",
      "  top: \"data\"\n",
      "  top: \"label\"\n",
      "  transform_param {\n",
      "    scale: 0.00392156886\n",
      "  }\n",
      "  data_param {\n",
      "    source: \"mnist/mnist_train_lmdb\"\n",
      "    batch_size: 64\n",
      "    backend: LMDB\n",
      "  }\n",
      "}\n",
      "layer {\n",
      "  name: \"score\"\n",
      "  type: \"InnerProduct\"\n",
      "  bottom: \"data\"\n",
      "  top: \"score\"\n",
      "  inner_product_param {\n",
      "    num_output: 10\n",
      "    weight_filler {\n",
      "      type: \"xavier\"\n",
      "    }\n",
      "  }\n",
      "}\n",
      "layer {\n",
      "  name: \"loss\"\n",
      "  type: \"SoftmaxWithLoss\"\n",
      "  bottom: \"score\"\n",
      "  bottom: \"label\"\n",
      "  top: \"loss\"\n",
      "}\n",
      "I20220130 13:33:06.045747 485215744 layer_factory.hpp:77] Creating layer data\n",
      "I20220130 13:33:06.045845 485215744 db_lmdb.cpp:35] Opened lmdb mnist/mnist_train_lmdb\n",
      "I20220130 13:33:06.045864 485215744 net.cpp:86] Creating Layer data\n",
      "I20220130 13:33:06.045869 485215744 net.cpp:382] data -> data\n",
      "I20220130 13:33:06.045876 485215744 net.cpp:382] data -> label\n",
      "I20220130 13:33:06.045889 485215744 data_layer.cpp:45] output data size: 64,1,28,28\n",
      "I20220130 13:33:06.045958 485215744 net.cpp:124] Setting up data\n",
      "I20220130 13:33:06.045964 485215744 net.cpp:131] Top shape: 64 1 28 28 (50176)\n",
      "I20220130 13:33:06.045969 485215744 net.cpp:131] Top shape: 64 (64)\n",
      "I20220130 13:33:06.045974 485215744 net.cpp:139] Memory required for data: 200960\n",
      "I20220130 13:33:06.045979 485215744 layer_factory.hpp:77] Creating layer score\n",
      "I20220130 13:33:06.045984 485215744 net.cpp:86] Creating Layer score\n",
      "I20220130 13:33:06.045989 485215744 net.cpp:408] score <- data\n",
      "I20220130 13:33:06.045994 485215744 net.cpp:382] score -> score\n",
      "I20220130 13:33:06.046054 485215744 net.cpp:124] Setting up score\n",
      "I20220130 13:33:06.046058 485215744 net.cpp:131] Top shape: 64 10 (640)\n",
      "I20220130 13:33:06.046063 485215744 net.cpp:139] Memory required for data: 203520\n",
      "I20220130 13:33:06.046070 485215744 layer_factory.hpp:77] Creating layer loss\n",
      "I20220130 13:33:06.046077 485215744 net.cpp:86] Creating Layer loss\n",
      "I20220130 13:33:06.046079 485215744 net.cpp:408] loss <- score\n",
      "I20220130 13:33:06.046084 485215744 net.cpp:408] loss <- label\n",
      "I20220130 13:33:06.046088 485215744 net.cpp:382] loss -> loss\n",
      "I20220130 13:33:06.046095 485215744 layer_factory.hpp:77] Creating layer loss\n",
      "I20220130 13:33:06.046104 485215744 net.cpp:124] Setting up loss\n",
      "I20220130 13:33:06.046108 485215744 net.cpp:131] Top shape: (1)\n",
      "I20220130 13:33:06.046113 485215744 net.cpp:134]     with loss weight 1\n",
      "I20220130 13:33:06.046118 485215744 net.cpp:139] Memory required for data: 203524\n",
      "I20220130 13:33:06.046123 485215744 net.cpp:200] loss needs backward computation.\n",
      "I20220130 13:33:06.046126 485215744 net.cpp:200] score needs backward computation.\n",
      "I20220130 13:33:06.046130 485215744 net.cpp:202] data does not need backward computation.\n",
      "I20220130 13:33:06.046134 485215744 net.cpp:244] This network produces output loss\n",
      "I20220130 13:33:06.046139 485215744 net.cpp:257] Network initialization done.\n",
      "I20220130 13:33:06.046213 485215744 solver.cpp:190] Creating test net (#0) specified by test_net file: mnist/custom_auto_test.prototxt\n",
      "I20220130 13:33:06.046224 485215744 net.cpp:53] Initializing net from parameters: \n",
      "state {\n",
      "  phase: TEST\n",
      "}\n",
      "layer {\n",
      "  name: \"data\"\n",
      "  type: \"Data\"\n",
      "  top: \"data\"\n",
      "  top: \"label\"\n",
      "  transform_param {\n",
      "    scale: 0.00392156886\n",
      "  }\n",
      "  data_param {\n",
      "    source: \"mnist/mnist_test_lmdb\"\n",
      "    batch_size: 100\n",
      "    backend: LMDB\n",
      "  }\n",
      "}\n",
      "layer {\n",
      "  name: \"score\"\n",
      "  type: \"InnerProduct\"\n",
      "  bottom: \"data\"\n",
      "  top: \"score\"\n",
      "  inner_product_param {\n",
      "    num_output: 10\n",
      "    weight_filler {\n",
      "      type: \"xavier\"\n",
      "    }\n",
      "  }\n",
      "}\n",
      "layer {\n",
      "  name: \"loss\"\n",
      "  type: \"SoftmaxWithLoss\"\n",
      "  bottom: \"score\"\n",
      "  bottom: \"label\"\n",
      "  top: \"loss\"\n",
      "}\n",
      "I20220130 13:33:06.046252 485215744 layer_factory.hpp:77] Creating layer data\n",
      "I20220130 13:33:06.046330 485215744 db_lmdb.cpp:35] Opened lmdb mnist/mnist_test_lmdb\n",
      "I20220130 13:33:06.046346 485215744 net.cpp:86] Creating Layer data\n",
      "I20220130 13:33:06.046351 485215744 net.cpp:382] data -> data\n",
      "I20220130 13:33:06.046358 485215744 net.cpp:382] data -> label\n",
      "I20220130 13:33:06.046368 485215744 data_layer.cpp:45] output data size: 100,1,28,28\n",
      "I20220130 13:33:06.046451 485215744 net.cpp:124] Setting up data\n",
      "I20220130 13:33:06.046460 485215744 net.cpp:131] Top shape: 100 1 28 28 (78400)\n",
      "I20220130 13:33:06.046470 485215744 net.cpp:131] Top shape: 100 (100)\n",
      "I20220130 13:33:06.046478 485215744 net.cpp:139] Memory required for data: 314000\n",
      "I20220130 13:33:06.046484 485215744 layer_factory.hpp:77] Creating layer score\n",
      "I20220130 13:33:06.046494 485215744 net.cpp:86] Creating Layer score\n",
      "I20220130 13:33:06.046501 485215744 net.cpp:408] score <- data\n",
      "I20220130 13:33:06.046510 485215744 net.cpp:382] score -> score\n",
      "I20220130 13:33:06.046619 485215744 net.cpp:124] Setting up score\n",
      "I20220130 13:33:06.046628 485215744 net.cpp:131] Top shape: 100 10 (1000)\n",
      "I20220130 13:33:06.046636 485215744 net.cpp:139] Memory required for data: 318000\n",
      "I20220130 13:33:06.046648 485215744 layer_factory.hpp:77] Creating layer loss\n",
      "I20220130 13:33:06.046658 485215744 net.cpp:86] Creating Layer loss\n",
      "I20220130 13:33:06.046669 485215744 net.cpp:408] loss <- score\n",
      "I20220130 13:33:06.046675 485215744 net.cpp:408] loss <- label\n",
      "I20220130 13:33:06.046684 485215744 net.cpp:382] loss -> loss\n",
      "I20220130 13:33:06.046695 485215744 layer_factory.hpp:77] Creating layer loss\n",
      "I20220130 13:33:06.046710 485215744 net.cpp:124] Setting up loss\n",
      "I20220130 13:33:06.046717 485215744 net.cpp:131] Top shape: (1)\n",
      "I20220130 13:33:06.046725 485215744 net.cpp:134]     with loss weight 1\n",
      "I20220130 13:33:06.046733 485215744 net.cpp:139] Memory required for data: 318004\n",
      "I20220130 13:33:06.046748 485215744 net.cpp:200] loss needs backward computation.\n",
      "I20220130 13:33:06.046754 485215744 net.cpp:200] score needs backward computation.\n",
      "I20220130 13:33:06.046762 485215744 net.cpp:202] data does not need backward computation.\n",
      "I20220130 13:33:06.046768 485215744 net.cpp:244] This network produces output loss\n",
      "I20220130 13:33:06.046777 485215744 net.cpp:257] Network initialization done.\n",
      "I20220130 13:33:06.046792 485215744 solver.cpp:57] Solver scaffolding done.\n",
      "I20220130 13:33:06.047262 485215744 solver.cpp:347] Iteration 0, Testing net (#0)\n",
      "I20220130 13:33:06.089458 132997120 data_layer.cpp:73] Restarting data prefetching from start.\n",
      "I20220130 13:33:06.089654 485215744 solver.cpp:414]     Test net output #0: loss = 2.36018 (* 1 = 2.36018 loss)\n",
      "I20220130 13:33:06.089833 485215744 solver.cpp:239] Iteration 0 (0 iter/s, 0.042s/1000 iters), loss = 2.34076\n",
      "I20220130 13:33:06.089843 485215744 solver.cpp:258]     Train net output #0: loss = 2.34076 (* 1 = 2.34076 loss)\n",
      "I20220130 13:33:06.089848 485215744 sgd_solver.cpp:112] Iteration 0, lr = 0.01\n",
      "I20220130 13:33:06.121635 132997120 data_layer.cpp:73] Restarting data prefetching from start.\n"
     ]
    },
    {
     "ename": "IndexError",
     "evalue": "only integers, slices (`:`), ellipsis (`...`), numpy.newaxis (`None`) and integer or boolean arrays are valid indices",
     "output_type": "error",
     "traceback": [
      "\u001b[0;31m---------------------------------------------------------------------------\u001b[0m",
      "\u001b[0;31mIndexError\u001b[0m                                Traceback (most recent call last)",
      "Input \u001b[0;32mIn [28]\u001b[0m, in \u001b[0;36m<module>\u001b[0;34m\u001b[0m\n\u001b[1;32m    116\u001b[0m             solver\u001b[38;5;241m.\u001b[39mtest_nets[\u001b[38;5;241m0\u001b[39m]\u001b[38;5;241m.\u001b[39mforward()\n\u001b[1;32m    117\u001b[0m             correct \u001b[38;5;241m+\u001b[39m\u001b[38;5;241m=\u001b[39m \u001b[38;5;28msum\u001b[39m(solver\u001b[38;5;241m.\u001b[39mtest_nets[\u001b[38;5;241m0\u001b[39m]\u001b[38;5;241m.\u001b[39mblobs[\u001b[38;5;124m'\u001b[39m\u001b[38;5;124mscore\u001b[39m\u001b[38;5;124m'\u001b[39m]\u001b[38;5;241m.\u001b[39mdata\u001b[38;5;241m.\u001b[39margmax(\u001b[38;5;241m1\u001b[39m)\n\u001b[1;32m    118\u001b[0m                            \u001b[38;5;241m==\u001b[39m solver\u001b[38;5;241m.\u001b[39mtest_nets[\u001b[38;5;241m0\u001b[39m]\u001b[38;5;241m.\u001b[39mblobs[\u001b[38;5;124m'\u001b[39m\u001b[38;5;124mlabel\u001b[39m\u001b[38;5;124m'\u001b[39m]\u001b[38;5;241m.\u001b[39mdata)\n\u001b[0;32m--> 119\u001b[0m         test_acc[it \u001b[38;5;241m/\u001b[39m\u001b[38;5;241m/\u001b[39m test_interval] \u001b[38;5;241m=\u001b[39m correct \u001b[38;5;241m/\u001b[39m \u001b[38;5;241m1e4\u001b[39m\n\u001b[1;32m    121\u001b[0m _, ax1 \u001b[38;5;241m=\u001b[39m subplots()\n\u001b[1;32m    122\u001b[0m ax2 \u001b[38;5;241m=\u001b[39m ax1\u001b[38;5;241m.\u001b[39mtwinx()\n",
      "\u001b[0;31mIndexError\u001b[0m: only integers, slices (`:`), ellipsis (`...`), numpy.newaxis (`None`) and integer or boolean arrays are valid indices"
     ]
    }
   ],
   "source": [
    "train_net_path = 'mnist/custom_auto_train.prototxt'\n",
    "test_net_path = 'mnist/custom_auto_test.prototxt'\n",
    "solver_config_path = 'mnist/custom_auto_solver.prototxt'\n",
    "\n",
    "### define net\n",
    "def custom_net(lmdb, batch_size):\n",
    "    # define your own net!\n",
    "    n = caffe.NetSpec()\n",
    "    \n",
    "    # keep this data layer for all networks\n",
    "    n.data, n.label = L.Data(batch_size=batch_size, backend=P.Data.LMDB, source=lmdb,\n",
    "                             transform_param=dict(scale=1./255), ntop=2)\n",
    "    \n",
    "    # EDIT HERE to try different networks\n",
    "    # this single layer defines a simple linear classifier\n",
    "    # (in particular this defines a multiway logistic regression)\n",
    "    n.score =   L.InnerProduct(n.data, num_output=10, weight_filler=dict(type='xavier'))\n",
    "    \n",
    "    # EDIT HERE this is the LeNet variant we have already tried\n",
    "    # n.conv1 = L.Convolution(n.data, kernel_size=5, num_output=20, weight_filler=dict(type='xavier'))\n",
    "    # n.pool1 = L.Pooling(n.conv1, kernel_size=2, stride=2, pool=P.Pooling.MAX)\n",
    "    # n.conv2 = L.Convolution(n.pool1, kernel_size=5, num_output=50, weight_filler=dict(type='xavier'))\n",
    "    # n.pool2 = L.Pooling(n.conv2, kernel_size=2, stride=2, pool=P.Pooling.MAX)\n",
    "    # n.fc1 =   L.InnerProduct(n.pool2, num_output=500, weight_filler=dict(type='xavier'))\n",
    "    # EDIT HERE consider L.ELU or L.Sigmoid for the nonlinearity\n",
    "    # n.relu1 = L.ReLU(n.fc1, in_place=True)\n",
    "    # n.score =   L.InnerProduct(n.fc1, num_output=10, weight_filler=dict(type='xavier'))\n",
    "    \n",
    "    # keep this loss layer for all networks\n",
    "    n.loss =  L.SoftmaxWithLoss(n.score, n.label)\n",
    "    \n",
    "    return n.to_proto()\n",
    "\n",
    "with open(train_net_path, 'w') as f:\n",
    "    f.write(str(custom_net('mnist/mnist_train_lmdb', 64)))    \n",
    "with open(test_net_path, 'w') as f:\n",
    "    f.write(str(custom_net('mnist/mnist_test_lmdb', 100)))\n",
    "\n",
    "### define solver\n",
    "from caffe.proto import caffe_pb2\n",
    "s = caffe_pb2.SolverParameter()\n",
    "\n",
    "# Set a seed for reproducible experiments:\n",
    "# this controls for randomization in training.\n",
    "s.random_seed = 0xCAFFE\n",
    "\n",
    "# Specify locations of the train and (maybe) test networks.\n",
    "s.train_net = train_net_path\n",
    "s.test_net.append(test_net_path)\n",
    "s.test_interval = 500  # Test after every 500 training iterations.\n",
    "s.test_iter.append(100) # Test on 100 batches each time we test.\n",
    "\n",
    "s.max_iter = 10000     # no. of times to update the net (training iterations)\n",
    " \n",
    "# EDIT HERE to try different solvers\n",
    "# solver types include \"SGD\", \"Adam\", and \"Nesterov\" among others.\n",
    "s.type = \"SGD\"\n",
    "\n",
    "# Set the initial learning rate for SGD.\n",
    "s.base_lr = 0.01  # EDIT HERE to try different learning rates\n",
    "# Set momentum to accelerate learning by\n",
    "# taking weighted average of current and previous updates.\n",
    "s.momentum = 0.9\n",
    "# Set weight decay to regularize and prevent overfitting\n",
    "s.weight_decay = 5e-4\n",
    "\n",
    "# Set `lr_policy` to define how the learning rate changes during training.\n",
    "# This is the same policy as our default LeNet.\n",
    "s.lr_policy = 'inv'\n",
    "s.gamma = 0.0001\n",
    "s.power = 0.75\n",
    "# EDIT HERE to try the fixed rate (and compare with adaptive solvers)\n",
    "# `fixed` is the simplest policy that keeps the learning rate constant.\n",
    "# s.lr_policy = 'fixed'\n",
    "\n",
    "# Display the current training loss and accuracy every 1000 iterations.\n",
    "s.display = 1000\n",
    "\n",
    "# Snapshots are files used to store networks we've trained.\n",
    "# We'll snapshot every 5K iterations -- twice during training.\n",
    "s.snapshot = 5000\n",
    "s.snapshot_prefix = 'mnist/custom_net'\n",
    "\n",
    "# Train on the GPU\n",
    "s.solver_mode = caffe_pb2.SolverParameter.GPU\n",
    "\n",
    "# Write the solver to a temporary file and return its filename.\n",
    "with open(solver_config_path, 'w') as f:\n",
    "    f.write(str(s))\n",
    "\n",
    "### load the solver and create train and test nets\n",
    "solver = None  # ignore this workaround for lmdb data (can't instantiate two solvers on the same data)\n",
    "solver = caffe.get_solver(solver_config_path)\n",
    "\n",
    "### solve\n",
    "niter = 250  # EDIT HERE increase to train for longer\n",
    "test_interval = niter / 10\n",
    "# losses will also be stored in the log\n",
    "train_loss = zeros(niter)\n",
    "test_acc = zeros(int(np.ceil(niter / test_interval)))\n",
    "\n",
    "# the main solver loop\n",
    "for it in range(niter):\n",
    "    solver.step(1)  # SGD by Caffe\n",
    "    \n",
    "    # store the train loss\n",
    "    train_loss[it] = solver.net.blobs['loss'].data\n",
    "    \n",
    "    # run a full test every so often\n",
    "    # (Caffe can also do this for us and write to a log, but we show here\n",
    "    #  how to do it directly in Python, where more complicated things are easier.)\n",
    "    if it % test_interval == 0:\n",
    "        print('Iteration', it, 'testing')\n",
    "        correct = 0\n",
    "        for test_it in range(100):\n",
    "            solver.test_nets[0].forward()\n",
    "            correct += sum(solver.test_nets[0].blobs['score'].data.argmax(1)\n",
    "                           == solver.test_nets[0].blobs['label'].data)\n",
    "        test_acc[it // test_interval] = correct / 1e4\n",
    "\n",
    "_, ax1 = subplots()\n",
    "ax2 = ax1.twinx()\n",
    "ax1.plot(arange(niter), train_loss)\n",
    "ax2.plot(test_interval * arange(len(test_acc)), test_acc, 'r')\n",
    "ax1.set_xlabel('iteration')\n",
    "ax1.set_ylabel('train loss')\n",
    "ax2.set_ylabel('test accuracy')\n",
    "ax2.set_title('Custom Test Accuracy: {:.2f}'.format(test_acc[-1]))"
   ]
  },
  {
   "cell_type": "code",
   "execution_count": null,
   "metadata": {},
   "outputs": [],
   "source": []
  }
 ],
 "metadata": {
  "description": "Define, train, and test the classic LeNet with the Python interface.",
  "example_name": "Learning LeNet",
  "include_in_docs": true,
  "kernelspec": {
   "display_name": "Python 3 (ipykernel)",
   "language": "python",
   "name": "python3"
  },
  "language_info": {
   "codemirror_mode": {
    "name": "ipython",
    "version": 3
   },
   "file_extension": ".py",
   "mimetype": "text/x-python",
   "name": "python",
   "nbconvert_exporter": "python",
   "pygments_lexer": "ipython3",
   "version": "3.9.10"
  },
  "priority": 2
 },
 "nbformat": 4,
 "nbformat_minor": 1
}
